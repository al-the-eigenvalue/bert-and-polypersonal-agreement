{
  "cells": [
    {
      "cell_type": "markdown",
      "metadata": {
        "id": "01M2ZnJH3pXb"
      },
      "source": [
        "# Генератор ошибок для дальнейшего пробинга\n",
        "\n",
        "Сделано:\n",
        "* Замена в случайных словах буквы на близкий символ клавиатуры: `random_keyboard_sub`\n",
        "* Случайные опечатки (любая буква кириллицы): `random_cyrillic_sub`\n",
        "* Если надо заменить несколько символов строго подряд: `random_several`\n",
        "\n",
        "* Псевдолингвистические фичи:\n",
        "\n",
        "* Проверка\n"
      ]
    },
    {
      "cell_type": "code",
      "execution_count": null,
      "metadata": {
        "colab": {
          "base_uri": "https://localhost:8080/"
        },
        "collapsed": true,
        "id": "tuH1Q-rl8hcJ",
        "outputId": "69156b1a-ccdc-4a07-da2e-6428f86e8ae0"
      },
      "outputs": [
        {
          "output_type": "stream",
          "name": "stdout",
          "text": [
            "Collecting pymorphy3\n",
            "  Downloading pymorphy3-2.0.3-py3-none-any.whl.metadata (1.9 kB)\n",
            "Collecting razdel\n",
            "  Downloading razdel-0.5.0-py3-none-any.whl.metadata (10.0 kB)\n",
            "Collecting dawg2-python>=0.8.0 (from pymorphy3)\n",
            "  Downloading dawg2_python-0.9.0-py3-none-any.whl.metadata (7.5 kB)\n",
            "Collecting pymorphy3-dicts-ru (from pymorphy3)\n",
            "  Downloading pymorphy3_dicts_ru-2.4.417150.4580142-py2.py3-none-any.whl.metadata (2.0 kB)\n",
            "Downloading pymorphy3-2.0.3-py3-none-any.whl (53 kB)\n",
            "\u001b[2K   \u001b[90m━━━━━━━━━━━━━━━━━━━━━━━━━━━━━━━━━━━━━━━━\u001b[0m \u001b[32m53.8/53.8 kB\u001b[0m \u001b[31m3.8 MB/s\u001b[0m eta \u001b[36m0:00:00\u001b[0m\n",
            "\u001b[?25hDownloading razdel-0.5.0-py3-none-any.whl (21 kB)\n",
            "Downloading dawg2_python-0.9.0-py3-none-any.whl (9.3 kB)\n",
            "Downloading pymorphy3_dicts_ru-2.4.417150.4580142-py2.py3-none-any.whl (8.4 MB)\n",
            "\u001b[2K   \u001b[90m━━━━━━━━━━━━━━━━━━━━━━━━━━━━━━━━━━━━━━━━\u001b[0m \u001b[32m8.4/8.4 MB\u001b[0m \u001b[31m29.1 MB/s\u001b[0m eta \u001b[36m0:00:00\u001b[0m\n",
            "\u001b[?25hInstalling collected packages: razdel, pymorphy3-dicts-ru, dawg2-python, pymorphy3\n",
            "Successfully installed dawg2-python-0.9.0 pymorphy3-2.0.3 pymorphy3-dicts-ru-2.4.417150.4580142 razdel-0.5.0\n"
          ]
        }
      ],
      "source": [
        "!pip install pymorphy3 razdel"
      ]
    },
    {
      "cell_type": "code",
      "execution_count": null,
      "metadata": {
        "id": "DAmD3o0k0M6j"
      },
      "outputs": [],
      "source": [
        "import re\n",
        "import random\n",
        "import spacy\n",
        "import pandas as pd\n",
        "from pymorphy3 import MorphAnalyzer\n",
        "from tqdm import tqdm\n",
        "from collections import Counter\n",
        "import random\n",
        "import requests\n",
        "from razdel import tokenize\n",
        "from sklearn.model_selection import train_test_split"
      ]
    },
    {
      "cell_type": "markdown",
      "metadata": {
        "id": "CEUNyfzO8QLe"
      },
      "source": [
        "# Проверка существования слова"
      ]
    },
    {
      "cell_type": "markdown",
      "metadata": {
        "id": "wrS7nJW58QLe"
      },
      "source": [
        "## Создание словаря датасета"
      ]
    },
    {
      "cell_type": "code",
      "execution_count": null,
      "metadata": {
        "colab": {
          "base_uri": "https://localhost:8080/"
        },
        "id": "pHUXSZCB8QLe",
        "outputId": "eae82b24-44ce-44c2-f83f-14cf1371e884"
      },
      "outputs": [
        {
          "output_type": "execute_result",
          "data": {
            "text/plain": [
              "3021712"
            ]
          },
          "metadata": {},
          "execution_count": 3
        }
      ],
      "source": [
        "sharing_url = \"https://drive.google.com/file/d/1bYImwMnmKGTq-QNRrYeI8iHJIlQdSLdz/view?usp=sharing\"\n",
        "download_url = \"https://drive.google.com/uc?id=\" + sharing_url.split(\"/\")[-2]\n",
        "\n",
        "test_dataset = pd.read_csv(download_url)\n",
        "orig_text = ' '.join(test_dataset.base).split()\n",
        "len(orig_text)"
      ]
    },
    {
      "cell_type": "code",
      "execution_count": null,
      "metadata": {
        "id": "PNi5K9rm8QLf",
        "colab": {
          "base_uri": "https://localhost:8080/",
          "height": 366
        },
        "outputId": "d0db4b48-573b-40fe-e2e7-52b3bf215515"
      },
      "outputs": [
        {
          "output_type": "error",
          "ename": "KeyboardInterrupt",
          "evalue": "",
          "traceback": [
            "\u001b[0;31m---------------------------------------------------------------------------\u001b[0m",
            "\u001b[0;31mKeyboardInterrupt\u001b[0m                         Traceback (most recent call last)",
            "\u001b[0;32m<ipython-input-4-ea8d85fbae8d>\u001b[0m in \u001b[0;36m<cell line: 0>\u001b[0;34m()\u001b[0m\n\u001b[1;32m      6\u001b[0m \u001b[0;32mfor\u001b[0m \u001b[0mword\u001b[0m \u001b[0;32min\u001b[0m \u001b[0morig_text\u001b[0m\u001b[0;34m:\u001b[0m\u001b[0;34m\u001b[0m\u001b[0;34m\u001b[0m\u001b[0m\n\u001b[1;32m      7\u001b[0m     \u001b[0;32mif\u001b[0m \u001b[0mword\u001b[0m \u001b[0;32mnot\u001b[0m \u001b[0;32min\u001b[0m \u001b[0mlemma_cache\u001b[0m\u001b[0;34m.\u001b[0m\u001b[0mkeys\u001b[0m\u001b[0;34m(\u001b[0m\u001b[0;34m)\u001b[0m\u001b[0;34m:\u001b[0m\u001b[0;34m\u001b[0m\u001b[0;34m\u001b[0m\u001b[0m\n\u001b[0;32m----> 8\u001b[0;31m         \u001b[0mlemma\u001b[0m \u001b[0;34m=\u001b[0m \u001b[0mmorphology\u001b[0m\u001b[0;34m.\u001b[0m\u001b[0mparse\u001b[0m\u001b[0;34m(\u001b[0m\u001b[0mword\u001b[0m\u001b[0;34m)\u001b[0m\u001b[0;34m[\u001b[0m\u001b[0;36m0\u001b[0m\u001b[0;34m]\u001b[0m\u001b[0;34m.\u001b[0m\u001b[0mnormal_form\u001b[0m\u001b[0;34m\u001b[0m\u001b[0;34m\u001b[0m\u001b[0m\n\u001b[0m\u001b[1;32m      9\u001b[0m         \u001b[0mlemma_cache\u001b[0m\u001b[0;34m[\u001b[0m\u001b[0mword\u001b[0m\u001b[0;34m]\u001b[0m \u001b[0;34m=\u001b[0m \u001b[0mlemma\u001b[0m\u001b[0;34m\u001b[0m\u001b[0;34m\u001b[0m\u001b[0m\n\u001b[1;32m     10\u001b[0m \u001b[0;34m\u001b[0m\u001b[0m\n",
            "\u001b[0;32m/usr/local/lib/python3.11/dist-packages/pymorphy3/analyzer.py\u001b[0m in \u001b[0;36mparse\u001b[0;34m(self, word)\u001b[0m\n\u001b[1;32m    328\u001b[0m \u001b[0;34m\u001b[0m\u001b[0m\n\u001b[1;32m    329\u001b[0m         \u001b[0;32mfor\u001b[0m \u001b[0manalyzer\u001b[0m\u001b[0;34m,\u001b[0m \u001b[0mis_terminal\u001b[0m \u001b[0;32min\u001b[0m \u001b[0mself\u001b[0m\u001b[0;34m.\u001b[0m\u001b[0m_units\u001b[0m\u001b[0;34m:\u001b[0m\u001b[0;34m\u001b[0m\u001b[0;34m\u001b[0m\u001b[0m\n\u001b[0;32m--> 330\u001b[0;31m             \u001b[0mres\u001b[0m\u001b[0;34m.\u001b[0m\u001b[0mextend\u001b[0m\u001b[0;34m(\u001b[0m\u001b[0manalyzer\u001b[0m\u001b[0;34m.\u001b[0m\u001b[0mparse\u001b[0m\u001b[0;34m(\u001b[0m\u001b[0mword\u001b[0m\u001b[0;34m,\u001b[0m \u001b[0mword_lower\u001b[0m\u001b[0;34m,\u001b[0m \u001b[0mseen\u001b[0m\u001b[0;34m)\u001b[0m\u001b[0;34m)\u001b[0m\u001b[0;34m\u001b[0m\u001b[0;34m\u001b[0m\u001b[0m\n\u001b[0m\u001b[1;32m    331\u001b[0m \u001b[0;34m\u001b[0m\u001b[0m\n\u001b[1;32m    332\u001b[0m             \u001b[0;32mif\u001b[0m \u001b[0mis_terminal\u001b[0m \u001b[0;32mand\u001b[0m \u001b[0mres\u001b[0m\u001b[0;34m:\u001b[0m\u001b[0;34m\u001b[0m\u001b[0;34m\u001b[0m\u001b[0m\n",
            "\u001b[0;32m/usr/local/lib/python3.11/dist-packages/pymorphy3/units/by_lookup.py\u001b[0m in \u001b[0;36mparse\u001b[0;34m(self, word, word_lower, seen_parses)\u001b[0m\n\u001b[1;32m     21\u001b[0m         \"\"\"\n\u001b[1;32m     22\u001b[0m         \u001b[0mres\u001b[0m \u001b[0;34m=\u001b[0m \u001b[0;34m[\u001b[0m\u001b[0;34m]\u001b[0m\u001b[0;34m\u001b[0m\u001b[0;34m\u001b[0m\u001b[0m\n\u001b[0;32m---> 23\u001b[0;31m         \u001b[0mpara_data\u001b[0m \u001b[0;34m=\u001b[0m \u001b[0mself\u001b[0m\u001b[0;34m.\u001b[0m\u001b[0mdict\u001b[0m\u001b[0;34m.\u001b[0m\u001b[0mwords\u001b[0m\u001b[0;34m.\u001b[0m\u001b[0msimilar_items\u001b[0m\u001b[0;34m(\u001b[0m\u001b[0mword_lower\u001b[0m\u001b[0;34m,\u001b[0m \u001b[0mself\u001b[0m\u001b[0;34m.\u001b[0m\u001b[0mmorph\u001b[0m\u001b[0;34m.\u001b[0m\u001b[0mchar_substitutes\u001b[0m\u001b[0;34m)\u001b[0m\u001b[0;34m\u001b[0m\u001b[0;34m\u001b[0m\u001b[0m\n\u001b[0m\u001b[1;32m     24\u001b[0m \u001b[0;34m\u001b[0m\u001b[0m\n\u001b[1;32m     25\u001b[0m         \u001b[0;32mfor\u001b[0m \u001b[0mfixed_word\u001b[0m\u001b[0;34m,\u001b[0m \u001b[0mparses\u001b[0m \u001b[0;32min\u001b[0m \u001b[0mpara_data\u001b[0m\u001b[0;34m:\u001b[0m\u001b[0;34m\u001b[0m\u001b[0;34m\u001b[0m\u001b[0m\n",
            "\u001b[0;32m/usr/local/lib/python3.11/dist-packages/dawg_python/dawgs.py\u001b[0m in \u001b[0;36msimilar_items\u001b[0;34m(self, key, replaces)\u001b[0m\n\u001b[1;32m    329\u001b[0m         \u001b[0municode\u001b[0m \u001b[0mstrings\u001b[0m\u001b[0;34m.\u001b[0m\u001b[0;34m\u001b[0m\u001b[0;34m\u001b[0m\u001b[0m\n\u001b[1;32m    330\u001b[0m         \"\"\"\n\u001b[0;32m--> 331\u001b[0;31m         \u001b[0;32mreturn\u001b[0m \u001b[0mself\u001b[0m\u001b[0;34m.\u001b[0m\u001b[0m_similar_items\u001b[0m\u001b[0;34m(\u001b[0m\u001b[0;34m\"\"\u001b[0m\u001b[0;34m,\u001b[0m \u001b[0mkey\u001b[0m\u001b[0;34m,\u001b[0m \u001b[0mself\u001b[0m\u001b[0;34m.\u001b[0m\u001b[0mdct\u001b[0m\u001b[0;34m.\u001b[0m\u001b[0mROOT\u001b[0m\u001b[0;34m,\u001b[0m \u001b[0mreplaces\u001b[0m\u001b[0;34m)\u001b[0m\u001b[0;34m\u001b[0m\u001b[0;34m\u001b[0m\u001b[0m\n\u001b[0m\u001b[1;32m    332\u001b[0m \u001b[0;34m\u001b[0m\u001b[0m\n\u001b[1;32m    333\u001b[0m     def _similar_item_values(\n",
            "\u001b[0;32m/usr/local/lib/python3.11/dist-packages/dawg_python/dawgs.py\u001b[0m in \u001b[0;36m_similar_items\u001b[0;34m(self, current_prefix, key, index, replace_chars)\u001b[0m\n\u001b[1;32m    298\u001b[0m                     \u001b[0mnext_index\u001b[0m \u001b[0;34m=\u001b[0m \u001b[0mindex\u001b[0m\u001b[0;34m\u001b[0m\u001b[0;34m\u001b[0m\u001b[0m\n\u001b[1;32m    299\u001b[0m \u001b[0;34m\u001b[0m\u001b[0m\n\u001b[0;32m--> 300\u001b[0;31m                     \u001b[0mnext_index\u001b[0m \u001b[0;34m=\u001b[0m \u001b[0mself\u001b[0m\u001b[0;34m.\u001b[0m\u001b[0mdct\u001b[0m\u001b[0;34m.\u001b[0m\u001b[0mfollow_bytes\u001b[0m\u001b[0;34m(\u001b[0m\u001b[0mb_replace_char\u001b[0m\u001b[0;34m,\u001b[0m \u001b[0mnext_index\u001b[0m\u001b[0;34m)\u001b[0m\u001b[0;34m\u001b[0m\u001b[0;34m\u001b[0m\u001b[0m\n\u001b[0m\u001b[1;32m    301\u001b[0m \u001b[0;34m\u001b[0m\u001b[0m\n\u001b[1;32m    302\u001b[0m                     \u001b[0;32mif\u001b[0m \u001b[0mnext_index\u001b[0m\u001b[0;34m:\u001b[0m\u001b[0;34m\u001b[0m\u001b[0;34m\u001b[0m\u001b[0m\n",
            "\u001b[0;32m/usr/local/lib/python3.11/dist-packages/dawg_python/wrapper.py\u001b[0m in \u001b[0;36mfollow_bytes\u001b[0;34m(self, s, index)\u001b[0m\n\u001b[1;32m     69\u001b[0m         \u001b[0;34m\"\"\"Follows transitions.\"\"\"\u001b[0m\u001b[0;34m\u001b[0m\u001b[0;34m\u001b[0m\u001b[0m\n\u001b[1;32m     70\u001b[0m         \u001b[0;32mfor\u001b[0m \u001b[0mch\u001b[0m \u001b[0;32min\u001b[0m \u001b[0ms\u001b[0m\u001b[0;34m:\u001b[0m\u001b[0;34m\u001b[0m\u001b[0;34m\u001b[0m\u001b[0m\n\u001b[0;32m---> 71\u001b[0;31m             \u001b[0mindex\u001b[0m \u001b[0;34m=\u001b[0m \u001b[0mself\u001b[0m\u001b[0;34m.\u001b[0m\u001b[0mfollow_char\u001b[0m\u001b[0;34m(\u001b[0m\u001b[0mch\u001b[0m\u001b[0;34m,\u001b[0m \u001b[0mindex\u001b[0m\u001b[0;34m)\u001b[0m\u001b[0;34m\u001b[0m\u001b[0;34m\u001b[0m\u001b[0m\n\u001b[0m\u001b[1;32m     72\u001b[0m             \u001b[0;32mif\u001b[0m \u001b[0mindex\u001b[0m \u001b[0;32mis\u001b[0m \u001b[0;32mNone\u001b[0m\u001b[0;34m:\u001b[0m\u001b[0;34m\u001b[0m\u001b[0;34m\u001b[0m\u001b[0m\n\u001b[1;32m     73\u001b[0m                 \u001b[0;32mreturn\u001b[0m \u001b[0;32mNone\u001b[0m\u001b[0;34m\u001b[0m\u001b[0;34m\u001b[0m\u001b[0m\n",
            "\u001b[0;32m/usr/local/lib/python3.11/dist-packages/dawg_python/wrapper.py\u001b[0m in \u001b[0;36mfollow_char\u001b[0;34m(self, label, index)\u001b[0m\n\u001b[1;32m     61\u001b[0m         \u001b[0mnext_index\u001b[0m \u001b[0;34m=\u001b[0m \u001b[0;34m(\u001b[0m\u001b[0mindex\u001b[0m \u001b[0;34m^\u001b[0m \u001b[0moffset\u001b[0m \u001b[0;34m^\u001b[0m \u001b[0mlabel\u001b[0m\u001b[0;34m)\u001b[0m \u001b[0;34m&\u001b[0m \u001b[0munits\u001b[0m\u001b[0;34m.\u001b[0m\u001b[0mPRECISION_MASK\u001b[0m\u001b[0;34m\u001b[0m\u001b[0;34m\u001b[0m\u001b[0m\n\u001b[1;32m     62\u001b[0m \u001b[0;34m\u001b[0m\u001b[0m\n\u001b[0;32m---> 63\u001b[0;31m         \u001b[0;32mif\u001b[0m \u001b[0munits\u001b[0m\u001b[0;34m.\u001b[0m\u001b[0mlabel\u001b[0m\u001b[0;34m(\u001b[0m\u001b[0mself\u001b[0m\u001b[0;34m.\u001b[0m\u001b[0m_units\u001b[0m\u001b[0;34m[\u001b[0m\u001b[0mnext_index\u001b[0m\u001b[0;34m]\u001b[0m\u001b[0;34m)\u001b[0m \u001b[0;34m!=\u001b[0m \u001b[0mlabel\u001b[0m\u001b[0;34m:\u001b[0m\u001b[0;34m\u001b[0m\u001b[0;34m\u001b[0m\u001b[0m\n\u001b[0m\u001b[1;32m     64\u001b[0m             \u001b[0;32mreturn\u001b[0m \u001b[0;32mNone\u001b[0m\u001b[0;34m\u001b[0m\u001b[0;34m\u001b[0m\u001b[0m\n\u001b[1;32m     65\u001b[0m \u001b[0;34m\u001b[0m\u001b[0m\n",
            "\u001b[0;32m/usr/local/lib/python3.11/dist-packages/dawg_python/units.py\u001b[0m in \u001b[0;36mlabel\u001b[0;34m(base, _mask)\u001b[0m\n\u001b[1;32m     21\u001b[0m \u001b[0;34m\u001b[0m\u001b[0m\n\u001b[1;32m     22\u001b[0m \u001b[0;34m\u001b[0m\u001b[0m\n\u001b[0;32m---> 23\u001b[0;31m \u001b[0;32mdef\u001b[0m \u001b[0mlabel\u001b[0m\u001b[0;34m(\u001b[0m\u001b[0mbase\u001b[0m\u001b[0;34m:\u001b[0m \u001b[0mint\u001b[0m\u001b[0;34m,\u001b[0m \u001b[0m_mask\u001b[0m\u001b[0;34m:\u001b[0m \u001b[0mint\u001b[0m \u001b[0;34m=\u001b[0m \u001b[0mIS_LEAF_BIT\u001b[0m \u001b[0;34m|\u001b[0m \u001b[0;36m0xFF\u001b[0m\u001b[0;34m)\u001b[0m \u001b[0;34m->\u001b[0m \u001b[0mint\u001b[0m\u001b[0;34m:\u001b[0m\u001b[0;34m\u001b[0m\u001b[0;34m\u001b[0m\u001b[0m\n\u001b[0m\u001b[1;32m     24\u001b[0m     \u001b[0;34m\"\"\"Read a label with a leaf flag from a non-leaf unit.\"\"\"\u001b[0m\u001b[0;34m\u001b[0m\u001b[0;34m\u001b[0m\u001b[0m\n\u001b[1;32m     25\u001b[0m     \u001b[0;32mreturn\u001b[0m \u001b[0mbase\u001b[0m \u001b[0;34m&\u001b[0m \u001b[0m_mask\u001b[0m\u001b[0;34m\u001b[0m\u001b[0;34m\u001b[0m\u001b[0m\n",
            "\u001b[0;31mKeyboardInterrupt\u001b[0m: "
          ]
        }
      ],
      "source": [
        "# формы оригинального датасета\n",
        "\n",
        "morphology = MorphAnalyzer()\n",
        "lemma_cache = dict()\n",
        "\n",
        "for word in orig_text:\n",
        "    if word not in lemma_cache.keys():\n",
        "        lemma = morphology.parse(word)[0].normal_form\n",
        "        lemma_cache[word] = lemma\n",
        "\n",
        "dataset_normal_words = set(list(lemma_cache.keys()) + list(lemma_cache.values()))"
      ]
    },
    {
      "cell_type": "code",
      "execution_count": null,
      "metadata": {
        "id": "UOhnagWd8QLf"
      },
      "outputs": [],
      "source": [
        "# формы полиперсональных глаголов\n",
        "\n",
        "polypers_text = ' '.join(test_dataset.polypers).split()\n",
        "polypers_forms = list()\n",
        "\n",
        "for word in polypers_text:\n",
        "    if word not in lemma_cache.keys():\n",
        "        polypers_forms.append(word)"
      ]
    },
    {
      "cell_type": "code",
      "execution_count": null,
      "metadata": {
        "id": "wCRE9f3U8QLf"
      },
      "outputs": [],
      "source": [
        "dataset_normal_words.update(polypers_forms)\n",
        "\n",
        "with open('normal_words.txt', 'w') as f:\n",
        "    for word in dataset_normal_words:\n",
        "        f.write(word)\n",
        "        f.write('\\n')"
      ]
    },
    {
      "cell_type": "markdown",
      "metadata": {
        "id": "OLBPIY8n8QLg"
      },
      "source": [
        "## Словарь из википедии"
      ]
    },
    {
      "cell_type": "code",
      "execution_count": null,
      "metadata": {
        "id": "3DLcbVww_IWl"
      },
      "outputs": [],
      "source": [
        "import requests\n",
        "\n",
        "url = \"https://drive.google.com/file/d/1vgocHX5ldtI3iSjg0Q9aHvf_m7N6zwM4/view?usp=sharing\"\n",
        "download_url = \"https://drive.google.com/uc?id=\" + url.split(\"/\")[-2]\n",
        "response = requests.get(download_url)\n",
        "content = response.text\n",
        "content"
      ]
    },
    {
      "cell_type": "code",
      "execution_count": null,
      "metadata": {
        "id": "mrLSvJxV8QLg"
      },
      "outputs": [],
      "source": [
        "with open('normal_words.txt', 'r') as f:\n",
        "    dataset_normal_words = set(word.strip() for word in f)\n",
        "\n",
        "wiki = open('wiki_data.txt', encoding='utf8').read()\n",
        "wiki_vocab = set(re.findall('\\w+', wiki.lower()))\n",
        "\n",
        "dataset_normal_words.update(wiki_vocab)"
      ]
    },
    {
      "cell_type": "code",
      "execution_count": null,
      "metadata": {
        "id": "kE6klOVP8QLg"
      },
      "outputs": [],
      "source": [
        "# консервируем все в файл\n",
        "with open('normal_words.txt', 'w') as f:\n",
        "    for word in dataset_normal_words:\n",
        "        f.write(word)\n",
        "        f.write('\\n')"
      ]
    },
    {
      "cell_type": "markdown",
      "metadata": {
        "id": "UKWIEpq68QLg"
      },
      "source": [
        "## Функция для проверки существования слова"
      ]
    },
    {
      "cell_type": "code",
      "source": [
        "sharing_url = \"https://drive.google.com/file/d/1bYImwMnmKGTq-QNRrYeI8iHJIlQdSLdz/view?usp=sharing\"\n",
        "download_url = \"https://drive.google.com/uc?id=\" + sharing_url.split(\"/\")[-2]\n",
        "\n",
        "test_dataset = pd.read_csv(download_url)"
      ],
      "metadata": {
        "id": "YJVeR-mRdB2n"
      },
      "execution_count": null,
      "outputs": []
    },
    {
      "cell_type": "code",
      "execution_count": null,
      "metadata": {
        "id": "Dd6ZpJpZWLzx"
      },
      "outputs": [],
      "source": [
        "with open('normal_words.txt') as f:\n",
        "    dataset_normal_words = set(word.strip() for word in f)"
      ]
    },
    {
      "cell_type": "code",
      "execution_count": null,
      "metadata": {
        "id": "2FnaM9e_8QLg"
      },
      "outputs": [],
      "source": [
        "def if_regular_word(word):\n",
        "    if word in dataset_normal_words:\n",
        "        return True\n",
        "    elif morphology.parse(word)[0].normal_form in dataset_normal_words:\n",
        "        return True\n",
        "    else:\n",
        "        return False"
      ]
    },
    {
      "cell_type": "markdown",
      "metadata": {
        "id": "ht5E_h-sgY8N"
      },
      "source": [
        "# Случайные опечатки и клавиатура"
      ]
    },
    {
      "cell_type": "markdown",
      "metadata": {
        "id": "6JqI-OhL8QLh"
      },
      "source": [
        "## Глобальные переменные"
      ]
    },
    {
      "cell_type": "code",
      "execution_count": null,
      "metadata": {
        "id": "lx-YCTiDjyPd"
      },
      "outputs": [],
      "source": [
        "cyrillic_chars = [chr(c) for c in range(ord('А'), ord('я') + 1)]\n",
        "cyrillic_chars.extend(['ё', 'Ё', ' '])\n",
        "morphology = MorphAnalyzer()"
      ]
    },
    {
      "cell_type": "code",
      "execution_count": null,
      "metadata": {
        "id": "AeVOlghZjAKR"
      },
      "outputs": [],
      "source": [
        "# словарь для соседей по клавиатуре\n",
        "keyboard_neighbors_low = {\n",
        "    'й': ['ц', 'ф'],\n",
        "    'ц': ['й', 'у', 'ф', 'ы'],\n",
        "    'у': ['ц', 'к', 'ы', 'в'],\n",
        "    'к': ['у', 'е', 'в', 'а'],\n",
        "    'е': ['к', 'н', 'а', 'п'],\n",
        "    'н': ['е', 'г', 'п', 'р'],\n",
        "    'г': ['н', 'ш', 'р', 'о'],\n",
        "    'ш': ['г', 'щ', 'о', 'л'],\n",
        "    'щ': ['ш', 'з', 'л', 'д'],\n",
        "    'з': ['щ', 'х', 'д', 'ж'],\n",
        "    'х': ['з', 'ъ', 'ж', 'э'],\n",
        "    'ъ': ['х', 'э'],\n",
        "\n",
        "    'ф': ['й', 'ц', 'ы', 'я'],\n",
        "    'ы': ['ф', 'ц', 'у', 'в', 'я', 'ч'],\n",
        "    'в': ['ы', 'у', 'к', 'а', 'ч', 'с'],\n",
        "    'а': ['в', 'к', 'е', 'п', 'с', 'м'],\n",
        "    'п': ['а', 'е', 'н', 'р', 'м', 'и'],\n",
        "    'р': ['п', 'н', 'г', 'о', 'и', 'т'],\n",
        "    'о': ['р', 'г', 'ш', 'л', 'т', 'ь'],\n",
        "    'л': ['о', 'ш', 'щ', 'д', 'ь', 'б'],\n",
        "    'д': ['л', 'щ', 'з', 'ж', 'б', 'ю'],\n",
        "    'ж': ['д', 'з', 'х', 'э', 'ю', '.'],\n",
        "    'э': ['ж', 'х', 'ъ', '.', 'ю'],\n",
        "\n",
        "    'я': ['ф', 'ы', 'ч'],\n",
        "    'ч': ['я', 'ы', 'в', 'с'],\n",
        "    'с': ['ч', 'в', 'а', 'м'],\n",
        "    'м': ['с', 'а', 'п', 'и'],\n",
        "    'и': ['м', 'п', 'р', 'т'],\n",
        "    'т': ['и', 'р', 'о', 'ь'],\n",
        "    'ь': ['т', 'о', 'л', 'б'],\n",
        "    'б': ['ь', 'л', 'д', 'ю'],\n",
        "    'ю': ['б', 'д', 'ж', 'э'],\n",
        "\n",
        "    'ё': ['й'],\n",
        "\n",
        "    ' ': ['с', 'м', 'и', 'т', 'ь'],\n",
        "    ',': ['ю'],\n",
        "    '.': ['ю'],\n",
        "    '!': ['ё', 'й'],\n",
        "    ':': ['е', 'н'],\n",
        "    ';': ['у', 'к'],\n",
        "    '?': ['н', 'г']}\n",
        "\n",
        "keyboard_neighbors_up = {letter.upper(): [var.upper() for var in vars] for letter, vars in keyboard_neighbors_low.items()}"
      ]
    },
    {
      "cell_type": "code",
      "execution_count": null,
      "metadata": {
        "id": "YewygORGzo8g"
      },
      "outputs": [],
      "source": [
        "class IndexNotInFunc(Exception):\n",
        "    def __init__(self, message='У вас отключен рандомный ввод, при этом вы не ввели индекс.'):\n",
        "        self.message = message\n",
        "        super().__init__(message)\n",
        "\n",
        "    def __str__(self):\n",
        "        return f\"{self.message}\""
      ]
    },
    {
      "cell_type": "markdown",
      "metadata": {
        "id": "6brBX7ys8QLh"
      },
      "source": [
        "## Функции"
      ]
    },
    {
      "cell_type": "code",
      "execution_count": null,
      "metadata": {
        "id": "xL3H4k0YIemV"
      },
      "outputs": [],
      "source": [
        "def random_cyrillic_sub(word, sub_num=1, randomized=True, index=None, return_index=False):\n",
        "\n",
        "    mutated_text = word\n",
        "    while if_regular_word(mutated_text) == True:\n",
        "        # print(mutated_text)\n",
        "\n",
        "        mutated_text = word\n",
        "        cyrillic_indices = [i for i, char in enumerate(word) if char in cyrillic_chars]\n",
        "\n",
        "        for i in range(sub_num):\n",
        "            if randomized == True:\n",
        "                random_index = random.choice(cyrillic_indices)\n",
        "                while word[random_index] not in cyrillic_chars:\n",
        "                    random_index = random.choice(cyrillic_indices)\n",
        "            else:\n",
        "                if index != None:\n",
        "                    random_index=index\n",
        "                else:\n",
        "                    raise IndexNotInFunc\n",
        "\n",
        "            original_char = word[random_index]\n",
        "            if original_char.lower() == original_char:\n",
        "                possible_chars = [c for c in cyrillic_chars if c != original_char and c.lower() == c]\n",
        "            else:\n",
        "                possible_chars = [c for c in cyrillic_chars if c != original_char and c.upper() == c]\n",
        "\n",
        "            new_char = random.choice(possible_chars)\n",
        "\n",
        "            mutated_text = mutated_text[:random_index] + new_char + mutated_text[random_index + 1:]\n",
        "\n",
        "    if return_index == False:\n",
        "        return mutated_text\n",
        "    else:\n",
        "        return mutated_text, random_index"
      ]
    },
    {
      "cell_type": "code",
      "execution_count": null,
      "metadata": {
        "id": "UE4aIsNr8QLh",
        "outputId": "abdcf5b5-af85-4d09-c66c-321ee7cb762a",
        "colab": {
          "base_uri": "https://localhost:8080/"
        }
      },
      "outputs": [
        {
          "output_type": "execute_result",
          "data": {
            "text/plain": [
              "'лисц'"
            ],
            "application/vnd.google.colaboratory.intrinsic+json": {
              "type": "string"
            }
          },
          "metadata": {},
          "execution_count": 15
        }
      ],
      "source": [
        "random_cyrillic_sub('лиса')"
      ]
    },
    {
      "cell_type": "code",
      "execution_count": null,
      "metadata": {
        "id": "QPIIzAWe4V_Z"
      },
      "outputs": [],
      "source": [
        "def random_keyboard_sub(word, sub_num=1, randomized=True, index=None, return_index=False):\n",
        "\n",
        "    mutated_text = word\n",
        "    while if_regular_word(mutated_text) == True:\n",
        "        print(mutated_text)\n",
        "\n",
        "        mutated_text = word\n",
        "        cyrillic_indices = [i for i, char in enumerate(word) if char in cyrillic_chars]\n",
        "\n",
        "        for i in range(sub_num):\n",
        "            if randomized == True:\n",
        "                random_index = random.choice(cyrillic_indices)\n",
        "                while word[random_index] not in cyrillic_chars:\n",
        "                    random_index = random.choice(cyrillic_indices)\n",
        "            else:\n",
        "                if index != None:\n",
        "                    random_index=index\n",
        "                else:\n",
        "                    raise IndexNotInFunc\n",
        "\n",
        "            original_char = word[random_index]\n",
        "            if original_char in keyboard_neighbors_low.keys():\n",
        "                possible_chars = keyboard_neighbors_low[original_char]\n",
        "            elif original_char in keyboard_neighbors_up.keys():\n",
        "                possible_chars = keyboard_neighbors_up[original_char]\n",
        "\n",
        "            new_char = random.choice(possible_chars)\n",
        "\n",
        "            mutated_text = mutated_text[:random_index] + new_char + mutated_text[random_index + 1:]\n",
        "\n",
        "    if return_index == False:\n",
        "        return mutated_text\n",
        "    else:\n",
        "        return mutated_text, random_index"
      ]
    },
    {
      "cell_type": "markdown",
      "metadata": {
        "id": "i4EnqAFm9_AU"
      },
      "source": [
        "# Псевдолингвистические фичи"
      ]
    },
    {
      "cell_type": "markdown",
      "metadata": {
        "id": "CSEbM3hf8QLi"
      },
      "source": [
        "## Глобальные переменные"
      ]
    },
    {
      "cell_type": "code",
      "execution_count": null,
      "metadata": {
        "id": "H5rNQ-Qf8QLi"
      },
      "outputs": [],
      "source": [
        "noun_endings = list(set([\n",
        "    # Singular (hard stem)\n",
        "    \"й\", \"ь\",    # masc nom\n",
        "    \"а\",             # masc gen\n",
        "    \"у\",             # masc dat\n",
        "    \"а\",         # masc acc (Nom/Gen)\n",
        "    \"ом\",            # masc inst\n",
        "    \"е\",             # masc prep\n",
        "\n",
        "    \"а\",             # fem nom\n",
        "    \"ы\",             # fem gen\n",
        "    \"е\",             # fem dat\n",
        "    \"у\",             # fem acc\n",
        "    \"ой\",            # fem inst\n",
        "    \"е\",             # fem prep\n",
        "\n",
        "    \"о\",             # neut nom\n",
        "    \"а\",             # neut gen\n",
        "    \"у\",             # neut dat\n",
        "    \"о\",             # neut acc\n",
        "    \"ом\",            # neut inst\n",
        "    \"е\",             # neut prep\n",
        "\n",
        "    # Singular (soft stem)\n",
        "    \"ь\", \"й\",        # masc nom\n",
        "    \"я\",             # masc gen\n",
        "    \"ю\",             # masc dat\n",
        "    \"ь\", \"я\",        # masc acc (Nom/Gen)\n",
        "    \"ем\",            # masc inst\n",
        "    \"е\",             # masc prep\n",
        "\n",
        "    \"я\",             # fem nom\n",
        "    \"и\",             # fem gen\n",
        "    \"е\",             # fem dat\n",
        "    \"ю\",             # fem acc\n",
        "    \"ей\", \"ёй\",      # fem inst\n",
        "    \"е\",             # fem prep\n",
        "\n",
        "    \"е\",             # neut nom\n",
        "    \"я\",             # neut gen\n",
        "    \"ю\",             # neut dat\n",
        "    \"е\",             # neut acc\n",
        "    \"ем\",            # neut inst\n",
        "    \"е\",             # neut prep\n",
        "\n",
        "    # Plural (hard stem)\n",
        "    \"ы\", \"и\",        # nom\n",
        "    \"ов\", \"ей\",      # gen\n",
        "    \"ам\",            # dat\n",
        "    \"ы\", \"и\", \"ов\", \"ей\", # acc (Nom/Gen)\n",
        "    \"ами\",           # inst\n",
        "    \"ах\",            # prep\n",
        "\n",
        "    # Plural (soft stem)\n",
        "    \"и\",             # nom\n",
        "    \"ей\",            # gen\n",
        "    \"ям\",            # dat\n",
        "    \"и\", \"ей\",       # acc (Nom/Gen)\n",
        "    \"ями\",           # inst\n",
        "    \"ях\"             # prep\n",
        "]))\n",
        "\n",
        "adj_endings = list(set([\n",
        "    # Full forms\n",
        "    \"ый\", \"ий\",      # masc nom\n",
        "    \"ая\", \"яя\",      # fem nom\n",
        "    \"ое\", \"ее\",      # neut nom\n",
        "    \"ого\", \"его\",    # masc/gen/neut gen\n",
        "    \"ой\", \"ей\",      # fem gen/dat/inst/prep\n",
        "    \"ому\", \"ему\",    # masc/neut dat\n",
        "    \"ую\", \"юю\",      # fem acc\n",
        "    \"ым\", \"им\",      # masc/neut inst\n",
        "    \"ом\", \"ем\",      # masc/neut prep\n",
        "\n",
        "    # Short forms\n",
        "    \"а\", \"о\", \"ы\",  # masc, fem, neut, pl\n",
        "\n",
        "    # Comparison\n",
        "    \"ее\", \"ей\",      # comparative\n",
        "    \"ейший\", \"айший\" # superlative\n",
        "]))\n",
        "\n",
        "verb_endings = list(set([\n",
        "    # Present/Future\n",
        "    \"у\", \"ю\",        # 1sg\n",
        "    \"ешь\", \"ишь\",    # 2sg\n",
        "    \"ет\", \"ит\",      # 3sg\n",
        "    \"ем\", \"им\",      # 1pl\n",
        "    \"ете\", \"ите\",    # 2pl\n",
        "    \"ут\", \"ют\", \"ат\", \"ят\", # 3pl\n",
        "\n",
        "    # Past\n",
        "    \"л\", \"ла\", \"ло\", \"ли\",\n",
        "\n",
        "    # Imperative\n",
        "    \"и\", \"ь\",        # sg\n",
        "    \"ите\", \"ьте\",    # pl\n",
        "\n",
        "    # Infinitive\n",
        "    \"ть\", \"ти\", \"чь\",\n",
        "]))\n",
        "\n",
        "all_endings = list(set(noun_endings + adj_endings + verb_endings))"
      ]
    },
    {
      "cell_type": "markdown",
      "metadata": {
        "id": "a-xvvWBF8QLi"
      },
      "source": [
        "## Функции"
      ]
    },
    {
      "cell_type": "code",
      "source": [
        "# функция для преобразования предложения\n",
        "def sent_modify(sent, sub_num=1):\n",
        "    tokens = [token.text for token in list(tokenize(sent))]\n",
        "    punct_marks = [token for token in tokens if re.search(r'[^А-Яа-я]', token) != None]\n",
        "    # print(punct_marks)\n",
        "    sent_indices = list(range(len(tokens)))\n",
        "    modified_idx = list()\n",
        "    allowed_pos = ['NOUN', 'ADJF', 'PRTF', 'VERB', 'INFN']\n",
        "\n",
        "    while sub_num+1 > len(tokens)-len(punct_marks):\n",
        "        sub_num -= 1\n",
        "    # print(punct_marks, sub_num)\n",
        "\n",
        "    for i in range(sub_num+1):\n",
        "        random_idx = random.choice(sent_indices)\n",
        "\n",
        "        pos = str(morphology.parse(tokens[random_idx])[0].tag)\n",
        "        pos = pos[:pos.find(',')]\n",
        "\n",
        "        while if_regular_word(tokens[random_idx]) != True \\\n",
        "        or random_idx in modified_idx or \\\n",
        "        re.search(r'[^А-Яа-я]', tokens[random_idx]) != None:\n",
        "            random_idx = random.choice(sent_indices)\n",
        "\n",
        "        pos = str(morphology.parse(tokens[random_idx])[0].tag)\n",
        "        pos = pos[:pos.find(',')]\n",
        "        mutated_word = tokens[random_idx]\n",
        "\n",
        "        while if_regular_word(mutated_word) == True:\n",
        "\n",
        "            if pos == 'NOUN':\n",
        "                mutated_word += random.choice(noun_endings)\n",
        "\n",
        "            elif pos == 'ADJF' or pos == 'PRTF':\n",
        "                mutated_word += random.choice(adj_endings)\n",
        "\n",
        "            elif pos == 'VERB' or pos == 'INFN':\n",
        "                mutated_word += random.choice(verb_endings)\n",
        "\n",
        "            else:\n",
        "                mutated_word += random.choice(all_endings)\n",
        "\n",
        "        tokens[random_idx] = mutated_word\n",
        "        modified_idx.append(random_idx)\n",
        "\n",
        "    return ' '.join(tokens)"
      ],
      "metadata": {
        "id": "HLqXcWKSnHCq"
      },
      "execution_count": null,
      "outputs": []
    },
    {
      "cell_type": "code",
      "source": [
        "sent_modify('Да!')"
      ],
      "metadata": {
        "colab": {
          "base_uri": "https://localhost:8080/"
        },
        "id": "vLTC1jB4vwxJ",
        "outputId": "1739cb9e-4c9a-40fa-a5ea-5cff6e9692ee"
      },
      "execution_count": null,
      "outputs": [
        {
          "output_type": "execute_result",
          "data": {
            "text/plain": [
              "'Даиы !'"
            ],
            "application/vnd.google.colaboratory.intrinsic+json": {
              "type": "string"
            }
          },
          "metadata": {},
          "execution_count": 19
        }
      ]
    },
    {
      "cell_type": "markdown",
      "metadata": {
        "id": "gY2W6YOa8S3B"
      },
      "source": [
        "# Подготовка датасета"
      ]
    },
    {
      "cell_type": "code",
      "source": [
        "sum(test_dataset.was_changed)"
      ],
      "metadata": {
        "colab": {
          "base_uri": "https://localhost:8080/"
        },
        "id": "KCNn0S7Lv33M",
        "outputId": "0e1b437e-0c02-4aa1-bfb8-c3cee3eeab32"
      },
      "execution_count": null,
      "outputs": [
        {
          "output_type": "execute_result",
          "data": {
            "text/plain": [
              "59801"
            ]
          },
          "metadata": {},
          "execution_count": 20
        }
      ]
    },
    {
      "cell_type": "code",
      "source": [
        "# полиперсональные индексы\n",
        "random.seed(30)\n",
        "random_state = 30\n",
        "polypers_rows = test_dataset[test_dataset.base != test_dataset.polypers].copy()\n",
        "\n",
        "rest_rows = test_dataset[test_dataset.base == test_dataset.polypers]\n",
        "\n",
        "# другие предложения, которые мы не будем трогать\n",
        "# normal_idx = random.sample(rest_idx, len(test_dataset)//2-len(polypers_rows))\n",
        "# normal_rows = test_dataset.iloc[normal_idx].copy()\n",
        "\n",
        "# normal_set = pd.concat([polypers_rows, normal_rows])\n",
        "# normal_set['normal'] = True\n",
        "rest_rows"
      ],
      "metadata": {
        "id": "gVvZn_HOwAN1",
        "colab": {
          "base_uri": "https://localhost:8080/",
          "height": 423
        },
        "collapsed": true,
        "outputId": "47f54c4d-adf1-4d6e-d559-2553c1471079"
      },
      "execution_count": null,
      "outputs": [
        {
          "output_type": "execute_result",
          "data": {
            "text/plain": [
              "        Unnamed: 0                                               base  \\\n",
              "0               35                    Человек шел ночью и спал днем .   \n",
              "1               65  Уже почти стемнело , он пошел дальше , неровно...   \n",
              "2               70  — О-о , какой долгий путь тебе пришлось пройти...   \n",
              "5               84                        Они заговорили очень тихо .   \n",
              "6              146                    Потом все повернулись к гостю .   \n",
              "...            ...                                                ...   \n",
              "229844     2298442  На широкой веранде санатория находились четвер...   \n",
              "229845     2298446  Целью нашего приезда был санаторий-лечебница д...   \n",
              "229846     2298454  Как рад ! - воскликнул он , обнимая старого пр...   \n",
              "229847     2298469  - Знает ли Ярослав Васильевич о решении строит...   \n",
              "229848     2298475           Много месяцев провел инженер в постели .   \n",
              "\n",
              "                                                 polypers  was_changed  \n",
              "0                         Человек шел ночью и спал днем .        False  \n",
              "1       Уже почти стемнело , он пошел дальше , неровно...        False  \n",
              "2       — О-о , какой долгий путь тебе пришлось пройти...        False  \n",
              "5                             Они заговорили очень тихо .        False  \n",
              "6                         Потом все повернулись к гостю .        False  \n",
              "...                                                   ...          ...  \n",
              "229844  На широкой веранде санатория находились четвер...        False  \n",
              "229845  Целью нашего приезда был санаторий-лечебница д...        False  \n",
              "229846  Как рад ! - воскликнул он , обнимая старого пр...        False  \n",
              "229847  - Знает ли Ярослав Васильевич о решении строит...        False  \n",
              "229848           Много месяцев провел инженер в постели .        False  \n",
              "\n",
              "[170048 rows x 4 columns]"
            ],
            "text/html": [
              "\n",
              "  <div id=\"df-3f727528-e482-4925-9e1d-a13673caf61e\" class=\"colab-df-container\">\n",
              "    <div>\n",
              "<style scoped>\n",
              "    .dataframe tbody tr th:only-of-type {\n",
              "        vertical-align: middle;\n",
              "    }\n",
              "\n",
              "    .dataframe tbody tr th {\n",
              "        vertical-align: top;\n",
              "    }\n",
              "\n",
              "    .dataframe thead th {\n",
              "        text-align: right;\n",
              "    }\n",
              "</style>\n",
              "<table border=\"1\" class=\"dataframe\">\n",
              "  <thead>\n",
              "    <tr style=\"text-align: right;\">\n",
              "      <th></th>\n",
              "      <th>Unnamed: 0</th>\n",
              "      <th>base</th>\n",
              "      <th>polypers</th>\n",
              "      <th>was_changed</th>\n",
              "    </tr>\n",
              "  </thead>\n",
              "  <tbody>\n",
              "    <tr>\n",
              "      <th>0</th>\n",
              "      <td>35</td>\n",
              "      <td>Человек шел ночью и спал днем .</td>\n",
              "      <td>Человек шел ночью и спал днем .</td>\n",
              "      <td>False</td>\n",
              "    </tr>\n",
              "    <tr>\n",
              "      <th>1</th>\n",
              "      <td>65</td>\n",
              "      <td>Уже почти стемнело , он пошел дальше , неровно...</td>\n",
              "      <td>Уже почти стемнело , он пошел дальше , неровно...</td>\n",
              "      <td>False</td>\n",
              "    </tr>\n",
              "    <tr>\n",
              "      <th>2</th>\n",
              "      <td>70</td>\n",
              "      <td>— О-о , какой долгий путь тебе пришлось пройти...</td>\n",
              "      <td>— О-о , какой долгий путь тебе пришлось пройти...</td>\n",
              "      <td>False</td>\n",
              "    </tr>\n",
              "    <tr>\n",
              "      <th>5</th>\n",
              "      <td>84</td>\n",
              "      <td>Они заговорили очень тихо .</td>\n",
              "      <td>Они заговорили очень тихо .</td>\n",
              "      <td>False</td>\n",
              "    </tr>\n",
              "    <tr>\n",
              "      <th>6</th>\n",
              "      <td>146</td>\n",
              "      <td>Потом все повернулись к гостю .</td>\n",
              "      <td>Потом все повернулись к гостю .</td>\n",
              "      <td>False</td>\n",
              "    </tr>\n",
              "    <tr>\n",
              "      <th>...</th>\n",
              "      <td>...</td>\n",
              "      <td>...</td>\n",
              "      <td>...</td>\n",
              "      <td>...</td>\n",
              "    </tr>\n",
              "    <tr>\n",
              "      <th>229844</th>\n",
              "      <td>2298442</td>\n",
              "      <td>На широкой веранде санатория находились четвер...</td>\n",
              "      <td>На широкой веранде санатория находились четвер...</td>\n",
              "      <td>False</td>\n",
              "    </tr>\n",
              "    <tr>\n",
              "      <th>229845</th>\n",
              "      <td>2298446</td>\n",
              "      <td>Целью нашего приезда был санаторий-лечебница д...</td>\n",
              "      <td>Целью нашего приезда был санаторий-лечебница д...</td>\n",
              "      <td>False</td>\n",
              "    </tr>\n",
              "    <tr>\n",
              "      <th>229846</th>\n",
              "      <td>2298454</td>\n",
              "      <td>Как рад ! - воскликнул он , обнимая старого пр...</td>\n",
              "      <td>Как рад ! - воскликнул он , обнимая старого пр...</td>\n",
              "      <td>False</td>\n",
              "    </tr>\n",
              "    <tr>\n",
              "      <th>229847</th>\n",
              "      <td>2298469</td>\n",
              "      <td>- Знает ли Ярослав Васильевич о решении строит...</td>\n",
              "      <td>- Знает ли Ярослав Васильевич о решении строит...</td>\n",
              "      <td>False</td>\n",
              "    </tr>\n",
              "    <tr>\n",
              "      <th>229848</th>\n",
              "      <td>2298475</td>\n",
              "      <td>Много месяцев провел инженер в постели .</td>\n",
              "      <td>Много месяцев провел инженер в постели .</td>\n",
              "      <td>False</td>\n",
              "    </tr>\n",
              "  </tbody>\n",
              "</table>\n",
              "<p>170048 rows × 4 columns</p>\n",
              "</div>\n",
              "    <div class=\"colab-df-buttons\">\n",
              "\n",
              "  <div class=\"colab-df-container\">\n",
              "    <button class=\"colab-df-convert\" onclick=\"convertToInteractive('df-3f727528-e482-4925-9e1d-a13673caf61e')\"\n",
              "            title=\"Convert this dataframe to an interactive table.\"\n",
              "            style=\"display:none;\">\n",
              "\n",
              "  <svg xmlns=\"http://www.w3.org/2000/svg\" height=\"24px\" viewBox=\"0 -960 960 960\">\n",
              "    <path d=\"M120-120v-720h720v720H120Zm60-500h600v-160H180v160Zm220 220h160v-160H400v160Zm0 220h160v-160H400v160ZM180-400h160v-160H180v160Zm440 0h160v-160H620v160ZM180-180h160v-160H180v160Zm440 0h160v-160H620v160Z\"/>\n",
              "  </svg>\n",
              "    </button>\n",
              "\n",
              "  <style>\n",
              "    .colab-df-container {\n",
              "      display:flex;\n",
              "      gap: 12px;\n",
              "    }\n",
              "\n",
              "    .colab-df-convert {\n",
              "      background-color: #E8F0FE;\n",
              "      border: none;\n",
              "      border-radius: 50%;\n",
              "      cursor: pointer;\n",
              "      display: none;\n",
              "      fill: #1967D2;\n",
              "      height: 32px;\n",
              "      padding: 0 0 0 0;\n",
              "      width: 32px;\n",
              "    }\n",
              "\n",
              "    .colab-df-convert:hover {\n",
              "      background-color: #E2EBFA;\n",
              "      box-shadow: 0px 1px 2px rgba(60, 64, 67, 0.3), 0px 1px 3px 1px rgba(60, 64, 67, 0.15);\n",
              "      fill: #174EA6;\n",
              "    }\n",
              "\n",
              "    .colab-df-buttons div {\n",
              "      margin-bottom: 4px;\n",
              "    }\n",
              "\n",
              "    [theme=dark] .colab-df-convert {\n",
              "      background-color: #3B4455;\n",
              "      fill: #D2E3FC;\n",
              "    }\n",
              "\n",
              "    [theme=dark] .colab-df-convert:hover {\n",
              "      background-color: #434B5C;\n",
              "      box-shadow: 0px 1px 3px 1px rgba(0, 0, 0, 0.15);\n",
              "      filter: drop-shadow(0px 1px 2px rgba(0, 0, 0, 0.3));\n",
              "      fill: #FFFFFF;\n",
              "    }\n",
              "  </style>\n",
              "\n",
              "    <script>\n",
              "      const buttonEl =\n",
              "        document.querySelector('#df-3f727528-e482-4925-9e1d-a13673caf61e button.colab-df-convert');\n",
              "      buttonEl.style.display =\n",
              "        google.colab.kernel.accessAllowed ? 'block' : 'none';\n",
              "\n",
              "      async function convertToInteractive(key) {\n",
              "        const element = document.querySelector('#df-3f727528-e482-4925-9e1d-a13673caf61e');\n",
              "        const dataTable =\n",
              "          await google.colab.kernel.invokeFunction('convertToInteractive',\n",
              "                                                    [key], {});\n",
              "        if (!dataTable) return;\n",
              "\n",
              "        const docLinkHtml = 'Like what you see? Visit the ' +\n",
              "          '<a target=\"_blank\" href=https://colab.research.google.com/notebooks/data_table.ipynb>data table notebook</a>'\n",
              "          + ' to learn more about interactive tables.';\n",
              "        element.innerHTML = '';\n",
              "        dataTable['output_type'] = 'display_data';\n",
              "        await google.colab.output.renderOutput(dataTable, element);\n",
              "        const docLink = document.createElement('div');\n",
              "        docLink.innerHTML = docLinkHtml;\n",
              "        element.appendChild(docLink);\n",
              "      }\n",
              "    </script>\n",
              "  </div>\n",
              "\n",
              "\n",
              "    <div id=\"df-18a40010-e299-4a4a-a720-07c4ce41fccc\">\n",
              "      <button class=\"colab-df-quickchart\" onclick=\"quickchart('df-18a40010-e299-4a4a-a720-07c4ce41fccc')\"\n",
              "                title=\"Suggest charts\"\n",
              "                style=\"display:none;\">\n",
              "\n",
              "<svg xmlns=\"http://www.w3.org/2000/svg\" height=\"24px\"viewBox=\"0 0 24 24\"\n",
              "     width=\"24px\">\n",
              "    <g>\n",
              "        <path d=\"M19 3H5c-1.1 0-2 .9-2 2v14c0 1.1.9 2 2 2h14c1.1 0 2-.9 2-2V5c0-1.1-.9-2-2-2zM9 17H7v-7h2v7zm4 0h-2V7h2v10zm4 0h-2v-4h2v4z\"/>\n",
              "    </g>\n",
              "</svg>\n",
              "      </button>\n",
              "\n",
              "<style>\n",
              "  .colab-df-quickchart {\n",
              "      --bg-color: #E8F0FE;\n",
              "      --fill-color: #1967D2;\n",
              "      --hover-bg-color: #E2EBFA;\n",
              "      --hover-fill-color: #174EA6;\n",
              "      --disabled-fill-color: #AAA;\n",
              "      --disabled-bg-color: #DDD;\n",
              "  }\n",
              "\n",
              "  [theme=dark] .colab-df-quickchart {\n",
              "      --bg-color: #3B4455;\n",
              "      --fill-color: #D2E3FC;\n",
              "      --hover-bg-color: #434B5C;\n",
              "      --hover-fill-color: #FFFFFF;\n",
              "      --disabled-bg-color: #3B4455;\n",
              "      --disabled-fill-color: #666;\n",
              "  }\n",
              "\n",
              "  .colab-df-quickchart {\n",
              "    background-color: var(--bg-color);\n",
              "    border: none;\n",
              "    border-radius: 50%;\n",
              "    cursor: pointer;\n",
              "    display: none;\n",
              "    fill: var(--fill-color);\n",
              "    height: 32px;\n",
              "    padding: 0;\n",
              "    width: 32px;\n",
              "  }\n",
              "\n",
              "  .colab-df-quickchart:hover {\n",
              "    background-color: var(--hover-bg-color);\n",
              "    box-shadow: 0 1px 2px rgba(60, 64, 67, 0.3), 0 1px 3px 1px rgba(60, 64, 67, 0.15);\n",
              "    fill: var(--button-hover-fill-color);\n",
              "  }\n",
              "\n",
              "  .colab-df-quickchart-complete:disabled,\n",
              "  .colab-df-quickchart-complete:disabled:hover {\n",
              "    background-color: var(--disabled-bg-color);\n",
              "    fill: var(--disabled-fill-color);\n",
              "    box-shadow: none;\n",
              "  }\n",
              "\n",
              "  .colab-df-spinner {\n",
              "    border: 2px solid var(--fill-color);\n",
              "    border-color: transparent;\n",
              "    border-bottom-color: var(--fill-color);\n",
              "    animation:\n",
              "      spin 1s steps(1) infinite;\n",
              "  }\n",
              "\n",
              "  @keyframes spin {\n",
              "    0% {\n",
              "      border-color: transparent;\n",
              "      border-bottom-color: var(--fill-color);\n",
              "      border-left-color: var(--fill-color);\n",
              "    }\n",
              "    20% {\n",
              "      border-color: transparent;\n",
              "      border-left-color: var(--fill-color);\n",
              "      border-top-color: var(--fill-color);\n",
              "    }\n",
              "    30% {\n",
              "      border-color: transparent;\n",
              "      border-left-color: var(--fill-color);\n",
              "      border-top-color: var(--fill-color);\n",
              "      border-right-color: var(--fill-color);\n",
              "    }\n",
              "    40% {\n",
              "      border-color: transparent;\n",
              "      border-right-color: var(--fill-color);\n",
              "      border-top-color: var(--fill-color);\n",
              "    }\n",
              "    60% {\n",
              "      border-color: transparent;\n",
              "      border-right-color: var(--fill-color);\n",
              "    }\n",
              "    80% {\n",
              "      border-color: transparent;\n",
              "      border-right-color: var(--fill-color);\n",
              "      border-bottom-color: var(--fill-color);\n",
              "    }\n",
              "    90% {\n",
              "      border-color: transparent;\n",
              "      border-bottom-color: var(--fill-color);\n",
              "    }\n",
              "  }\n",
              "</style>\n",
              "\n",
              "      <script>\n",
              "        async function quickchart(key) {\n",
              "          const quickchartButtonEl =\n",
              "            document.querySelector('#' + key + ' button');\n",
              "          quickchartButtonEl.disabled = true;  // To prevent multiple clicks.\n",
              "          quickchartButtonEl.classList.add('colab-df-spinner');\n",
              "          try {\n",
              "            const charts = await google.colab.kernel.invokeFunction(\n",
              "                'suggestCharts', [key], {});\n",
              "          } catch (error) {\n",
              "            console.error('Error during call to suggestCharts:', error);\n",
              "          }\n",
              "          quickchartButtonEl.classList.remove('colab-df-spinner');\n",
              "          quickchartButtonEl.classList.add('colab-df-quickchart-complete');\n",
              "        }\n",
              "        (() => {\n",
              "          let quickchartButtonEl =\n",
              "            document.querySelector('#df-18a40010-e299-4a4a-a720-07c4ce41fccc button');\n",
              "          quickchartButtonEl.style.display =\n",
              "            google.colab.kernel.accessAllowed ? 'block' : 'none';\n",
              "        })();\n",
              "      </script>\n",
              "    </div>\n",
              "    </div>\n",
              "  </div>\n"
            ],
            "application/vnd.google.colaboratory.intrinsic+json": {
              "type": "dataframe",
              "variable_name": "rest_rows"
            }
          },
          "metadata": {},
          "execution_count": 21
        }
      ]
    },
    {
      "cell_type": "code",
      "source": [
        "normal_rows, pre_distorted_set = train_test_split(rest_rows,\n",
        "                                                 train_size=len(test_dataset)//2-len(polypers_rows),\n",
        "                                                 random_state=random_state,\n",
        "                                                 shuffle=True)"
      ],
      "metadata": {
        "id": "nQvn9N11giX-"
      },
      "execution_count": null,
      "outputs": []
    },
    {
      "cell_type": "code",
      "source": [
        "normal_set = pd.concat([polypers_rows, normal_rows])\n",
        "pre_distorted_set['normal'] = False\n",
        "normal_set['normal'] = True\n",
        "pre_distorted_set['distortion'] = ''\n",
        "normal_set['distortion'] = normal_set.base"
      ],
      "metadata": {
        "id": "wtOMbBs80zD8"
      },
      "execution_count": null,
      "outputs": []
    },
    {
      "cell_type": "code",
      "source": [
        "len(normal_set) + 1 == len(pre_distorted_set)"
      ],
      "metadata": {
        "colab": {
          "base_uri": "https://localhost:8080/"
        },
        "id": "5jPcAEguvTku",
        "outputId": "1344eca8-3f42-4e29-f40d-50d9918b4aef"
      },
      "execution_count": null,
      "outputs": [
        {
          "output_type": "execute_result",
          "data": {
            "text/plain": [
              "True"
            ]
          },
          "metadata": {},
          "execution_count": 24
        }
      ]
    },
    {
      "cell_type": "code",
      "source": [
        "distorted_set = pre_distorted_set.copy()\n",
        "\n",
        "def modify_row(row):\n",
        "    tokens_length = len(row.base.split())\n",
        "    if tokens_length < 10:\n",
        "        return sent_modify(row.base)\n",
        "    elif 10 <= tokens_length <= 20:\n",
        "        return sent_modify(row.base, sub_num=2)\n",
        "    else:\n",
        "        random_sub = random.choice([1, 2, 3])\n",
        "        return sent_modify(row.base, sub_num=random_sub)\n",
        "\n",
        "distorted_set['distortion'] = distorted_set.apply(modify_row, axis=1)"
      ],
      "metadata": {
        "id": "4IGZvhkzxMVQ"
      },
      "execution_count": null,
      "outputs": []
    },
    {
      "cell_type": "code",
      "source": [
        "distorted_set[distorted_set['distortion'] == distorted_set['base']]"
      ],
      "metadata": {
        "colab": {
          "base_uri": "https://localhost:8080/",
          "height": 423
        },
        "id": "qY1i70F-6KYU",
        "outputId": "a7616aac-f206-4097-ac28-4969454b2ff7"
      },
      "execution_count": null,
      "outputs": [
        {
          "output_type": "execute_result",
          "data": {
            "text/plain": [
              "        Unnamed: 0            base        polypers  was_changed  normal  \\\n",
              "83029       830302               -               -        False   False   \n",
              "138959     1392367       — Да-да …       — Да-да …        False   False   \n",
              "128164     1282504         — О-о !         — О-о !        False   False   \n",
              "107834     1078326         — А-а …         — А-а …        False   False   \n",
              "194913     1950763          Чёрт !          Чёрт !        False   False   \n",
              "...            ...             ...             ...          ...     ...   \n",
              "177034     1772044  Туда-обратно .  Туда-обратно .        False   False   \n",
              "129286     1293916         Га-ля .         Га-ля .        False   False   \n",
              "4743         47230         [ 4 ] .         [ 4 ] .        False   False   \n",
              "124892     1249917     — Вот-вот …     — Вот-вот …        False   False   \n",
              "178277     1784639    Наконец-то !    Наконец-то !        False   False   \n",
              "\n",
              "            distortion  \n",
              "83029                -  \n",
              "138959       — Да-да …  \n",
              "128164         — О-о !  \n",
              "107834         — А-а …  \n",
              "194913          Чёрт !  \n",
              "...                ...  \n",
              "177034  Туда-обратно .  \n",
              "129286         Га-ля .  \n",
              "4743           [ 4 ] .  \n",
              "124892     — Вот-вот …  \n",
              "178277    Наконец-то !  \n",
              "\n",
              "[243 rows x 6 columns]"
            ],
            "text/html": [
              "\n",
              "  <div id=\"df-f7510df8-df05-4e2d-914c-5c4683a4c270\" class=\"colab-df-container\">\n",
              "    <div>\n",
              "<style scoped>\n",
              "    .dataframe tbody tr th:only-of-type {\n",
              "        vertical-align: middle;\n",
              "    }\n",
              "\n",
              "    .dataframe tbody tr th {\n",
              "        vertical-align: top;\n",
              "    }\n",
              "\n",
              "    .dataframe thead th {\n",
              "        text-align: right;\n",
              "    }\n",
              "</style>\n",
              "<table border=\"1\" class=\"dataframe\">\n",
              "  <thead>\n",
              "    <tr style=\"text-align: right;\">\n",
              "      <th></th>\n",
              "      <th>Unnamed: 0</th>\n",
              "      <th>base</th>\n",
              "      <th>polypers</th>\n",
              "      <th>was_changed</th>\n",
              "      <th>normal</th>\n",
              "      <th>distortion</th>\n",
              "    </tr>\n",
              "  </thead>\n",
              "  <tbody>\n",
              "    <tr>\n",
              "      <th>83029</th>\n",
              "      <td>830302</td>\n",
              "      <td>-</td>\n",
              "      <td>-</td>\n",
              "      <td>False</td>\n",
              "      <td>False</td>\n",
              "      <td>-</td>\n",
              "    </tr>\n",
              "    <tr>\n",
              "      <th>138959</th>\n",
              "      <td>1392367</td>\n",
              "      <td>— Да-да …</td>\n",
              "      <td>— Да-да …</td>\n",
              "      <td>False</td>\n",
              "      <td>False</td>\n",
              "      <td>— Да-да …</td>\n",
              "    </tr>\n",
              "    <tr>\n",
              "      <th>128164</th>\n",
              "      <td>1282504</td>\n",
              "      <td>— О-о !</td>\n",
              "      <td>— О-о !</td>\n",
              "      <td>False</td>\n",
              "      <td>False</td>\n",
              "      <td>— О-о !</td>\n",
              "    </tr>\n",
              "    <tr>\n",
              "      <th>107834</th>\n",
              "      <td>1078326</td>\n",
              "      <td>— А-а …</td>\n",
              "      <td>— А-а …</td>\n",
              "      <td>False</td>\n",
              "      <td>False</td>\n",
              "      <td>— А-а …</td>\n",
              "    </tr>\n",
              "    <tr>\n",
              "      <th>194913</th>\n",
              "      <td>1950763</td>\n",
              "      <td>Чёрт !</td>\n",
              "      <td>Чёрт !</td>\n",
              "      <td>False</td>\n",
              "      <td>False</td>\n",
              "      <td>Чёрт !</td>\n",
              "    </tr>\n",
              "    <tr>\n",
              "      <th>...</th>\n",
              "      <td>...</td>\n",
              "      <td>...</td>\n",
              "      <td>...</td>\n",
              "      <td>...</td>\n",
              "      <td>...</td>\n",
              "      <td>...</td>\n",
              "    </tr>\n",
              "    <tr>\n",
              "      <th>177034</th>\n",
              "      <td>1772044</td>\n",
              "      <td>Туда-обратно .</td>\n",
              "      <td>Туда-обратно .</td>\n",
              "      <td>False</td>\n",
              "      <td>False</td>\n",
              "      <td>Туда-обратно .</td>\n",
              "    </tr>\n",
              "    <tr>\n",
              "      <th>129286</th>\n",
              "      <td>1293916</td>\n",
              "      <td>Га-ля .</td>\n",
              "      <td>Га-ля .</td>\n",
              "      <td>False</td>\n",
              "      <td>False</td>\n",
              "      <td>Га-ля .</td>\n",
              "    </tr>\n",
              "    <tr>\n",
              "      <th>4743</th>\n",
              "      <td>47230</td>\n",
              "      <td>[ 4 ] .</td>\n",
              "      <td>[ 4 ] .</td>\n",
              "      <td>False</td>\n",
              "      <td>False</td>\n",
              "      <td>[ 4 ] .</td>\n",
              "    </tr>\n",
              "    <tr>\n",
              "      <th>124892</th>\n",
              "      <td>1249917</td>\n",
              "      <td>— Вот-вот …</td>\n",
              "      <td>— Вот-вот …</td>\n",
              "      <td>False</td>\n",
              "      <td>False</td>\n",
              "      <td>— Вот-вот …</td>\n",
              "    </tr>\n",
              "    <tr>\n",
              "      <th>178277</th>\n",
              "      <td>1784639</td>\n",
              "      <td>Наконец-то !</td>\n",
              "      <td>Наконец-то !</td>\n",
              "      <td>False</td>\n",
              "      <td>False</td>\n",
              "      <td>Наконец-то !</td>\n",
              "    </tr>\n",
              "  </tbody>\n",
              "</table>\n",
              "<p>243 rows × 6 columns</p>\n",
              "</div>\n",
              "    <div class=\"colab-df-buttons\">\n",
              "\n",
              "  <div class=\"colab-df-container\">\n",
              "    <button class=\"colab-df-convert\" onclick=\"convertToInteractive('df-f7510df8-df05-4e2d-914c-5c4683a4c270')\"\n",
              "            title=\"Convert this dataframe to an interactive table.\"\n",
              "            style=\"display:none;\">\n",
              "\n",
              "  <svg xmlns=\"http://www.w3.org/2000/svg\" height=\"24px\" viewBox=\"0 -960 960 960\">\n",
              "    <path d=\"M120-120v-720h720v720H120Zm60-500h600v-160H180v160Zm220 220h160v-160H400v160Zm0 220h160v-160H400v160ZM180-400h160v-160H180v160Zm440 0h160v-160H620v160ZM180-180h160v-160H180v160Zm440 0h160v-160H620v160Z\"/>\n",
              "  </svg>\n",
              "    </button>\n",
              "\n",
              "  <style>\n",
              "    .colab-df-container {\n",
              "      display:flex;\n",
              "      gap: 12px;\n",
              "    }\n",
              "\n",
              "    .colab-df-convert {\n",
              "      background-color: #E8F0FE;\n",
              "      border: none;\n",
              "      border-radius: 50%;\n",
              "      cursor: pointer;\n",
              "      display: none;\n",
              "      fill: #1967D2;\n",
              "      height: 32px;\n",
              "      padding: 0 0 0 0;\n",
              "      width: 32px;\n",
              "    }\n",
              "\n",
              "    .colab-df-convert:hover {\n",
              "      background-color: #E2EBFA;\n",
              "      box-shadow: 0px 1px 2px rgba(60, 64, 67, 0.3), 0px 1px 3px 1px rgba(60, 64, 67, 0.15);\n",
              "      fill: #174EA6;\n",
              "    }\n",
              "\n",
              "    .colab-df-buttons div {\n",
              "      margin-bottom: 4px;\n",
              "    }\n",
              "\n",
              "    [theme=dark] .colab-df-convert {\n",
              "      background-color: #3B4455;\n",
              "      fill: #D2E3FC;\n",
              "    }\n",
              "\n",
              "    [theme=dark] .colab-df-convert:hover {\n",
              "      background-color: #434B5C;\n",
              "      box-shadow: 0px 1px 3px 1px rgba(0, 0, 0, 0.15);\n",
              "      filter: drop-shadow(0px 1px 2px rgba(0, 0, 0, 0.3));\n",
              "      fill: #FFFFFF;\n",
              "    }\n",
              "  </style>\n",
              "\n",
              "    <script>\n",
              "      const buttonEl =\n",
              "        document.querySelector('#df-f7510df8-df05-4e2d-914c-5c4683a4c270 button.colab-df-convert');\n",
              "      buttonEl.style.display =\n",
              "        google.colab.kernel.accessAllowed ? 'block' : 'none';\n",
              "\n",
              "      async function convertToInteractive(key) {\n",
              "        const element = document.querySelector('#df-f7510df8-df05-4e2d-914c-5c4683a4c270');\n",
              "        const dataTable =\n",
              "          await google.colab.kernel.invokeFunction('convertToInteractive',\n",
              "                                                    [key], {});\n",
              "        if (!dataTable) return;\n",
              "\n",
              "        const docLinkHtml = 'Like what you see? Visit the ' +\n",
              "          '<a target=\"_blank\" href=https://colab.research.google.com/notebooks/data_table.ipynb>data table notebook</a>'\n",
              "          + ' to learn more about interactive tables.';\n",
              "        element.innerHTML = '';\n",
              "        dataTable['output_type'] = 'display_data';\n",
              "        await google.colab.output.renderOutput(dataTable, element);\n",
              "        const docLink = document.createElement('div');\n",
              "        docLink.innerHTML = docLinkHtml;\n",
              "        element.appendChild(docLink);\n",
              "      }\n",
              "    </script>\n",
              "  </div>\n",
              "\n",
              "\n",
              "    <div id=\"df-fb1db9a0-de45-4ccc-b515-f93a280f0f20\">\n",
              "      <button class=\"colab-df-quickchart\" onclick=\"quickchart('df-fb1db9a0-de45-4ccc-b515-f93a280f0f20')\"\n",
              "                title=\"Suggest charts\"\n",
              "                style=\"display:none;\">\n",
              "\n",
              "<svg xmlns=\"http://www.w3.org/2000/svg\" height=\"24px\"viewBox=\"0 0 24 24\"\n",
              "     width=\"24px\">\n",
              "    <g>\n",
              "        <path d=\"M19 3H5c-1.1 0-2 .9-2 2v14c0 1.1.9 2 2 2h14c1.1 0 2-.9 2-2V5c0-1.1-.9-2-2-2zM9 17H7v-7h2v7zm4 0h-2V7h2v10zm4 0h-2v-4h2v4z\"/>\n",
              "    </g>\n",
              "</svg>\n",
              "      </button>\n",
              "\n",
              "<style>\n",
              "  .colab-df-quickchart {\n",
              "      --bg-color: #E8F0FE;\n",
              "      --fill-color: #1967D2;\n",
              "      --hover-bg-color: #E2EBFA;\n",
              "      --hover-fill-color: #174EA6;\n",
              "      --disabled-fill-color: #AAA;\n",
              "      --disabled-bg-color: #DDD;\n",
              "  }\n",
              "\n",
              "  [theme=dark] .colab-df-quickchart {\n",
              "      --bg-color: #3B4455;\n",
              "      --fill-color: #D2E3FC;\n",
              "      --hover-bg-color: #434B5C;\n",
              "      --hover-fill-color: #FFFFFF;\n",
              "      --disabled-bg-color: #3B4455;\n",
              "      --disabled-fill-color: #666;\n",
              "  }\n",
              "\n",
              "  .colab-df-quickchart {\n",
              "    background-color: var(--bg-color);\n",
              "    border: none;\n",
              "    border-radius: 50%;\n",
              "    cursor: pointer;\n",
              "    display: none;\n",
              "    fill: var(--fill-color);\n",
              "    height: 32px;\n",
              "    padding: 0;\n",
              "    width: 32px;\n",
              "  }\n",
              "\n",
              "  .colab-df-quickchart:hover {\n",
              "    background-color: var(--hover-bg-color);\n",
              "    box-shadow: 0 1px 2px rgba(60, 64, 67, 0.3), 0 1px 3px 1px rgba(60, 64, 67, 0.15);\n",
              "    fill: var(--button-hover-fill-color);\n",
              "  }\n",
              "\n",
              "  .colab-df-quickchart-complete:disabled,\n",
              "  .colab-df-quickchart-complete:disabled:hover {\n",
              "    background-color: var(--disabled-bg-color);\n",
              "    fill: var(--disabled-fill-color);\n",
              "    box-shadow: none;\n",
              "  }\n",
              "\n",
              "  .colab-df-spinner {\n",
              "    border: 2px solid var(--fill-color);\n",
              "    border-color: transparent;\n",
              "    border-bottom-color: var(--fill-color);\n",
              "    animation:\n",
              "      spin 1s steps(1) infinite;\n",
              "  }\n",
              "\n",
              "  @keyframes spin {\n",
              "    0% {\n",
              "      border-color: transparent;\n",
              "      border-bottom-color: var(--fill-color);\n",
              "      border-left-color: var(--fill-color);\n",
              "    }\n",
              "    20% {\n",
              "      border-color: transparent;\n",
              "      border-left-color: var(--fill-color);\n",
              "      border-top-color: var(--fill-color);\n",
              "    }\n",
              "    30% {\n",
              "      border-color: transparent;\n",
              "      border-left-color: var(--fill-color);\n",
              "      border-top-color: var(--fill-color);\n",
              "      border-right-color: var(--fill-color);\n",
              "    }\n",
              "    40% {\n",
              "      border-color: transparent;\n",
              "      border-right-color: var(--fill-color);\n",
              "      border-top-color: var(--fill-color);\n",
              "    }\n",
              "    60% {\n",
              "      border-color: transparent;\n",
              "      border-right-color: var(--fill-color);\n",
              "    }\n",
              "    80% {\n",
              "      border-color: transparent;\n",
              "      border-right-color: var(--fill-color);\n",
              "      border-bottom-color: var(--fill-color);\n",
              "    }\n",
              "    90% {\n",
              "      border-color: transparent;\n",
              "      border-bottom-color: var(--fill-color);\n",
              "    }\n",
              "  }\n",
              "</style>\n",
              "\n",
              "      <script>\n",
              "        async function quickchart(key) {\n",
              "          const quickchartButtonEl =\n",
              "            document.querySelector('#' + key + ' button');\n",
              "          quickchartButtonEl.disabled = true;  // To prevent multiple clicks.\n",
              "          quickchartButtonEl.classList.add('colab-df-spinner');\n",
              "          try {\n",
              "            const charts = await google.colab.kernel.invokeFunction(\n",
              "                'suggestCharts', [key], {});\n",
              "          } catch (error) {\n",
              "            console.error('Error during call to suggestCharts:', error);\n",
              "          }\n",
              "          quickchartButtonEl.classList.remove('colab-df-spinner');\n",
              "          quickchartButtonEl.classList.add('colab-df-quickchart-complete');\n",
              "        }\n",
              "        (() => {\n",
              "          let quickchartButtonEl =\n",
              "            document.querySelector('#df-fb1db9a0-de45-4ccc-b515-f93a280f0f20 button');\n",
              "          quickchartButtonEl.style.display =\n",
              "            google.colab.kernel.accessAllowed ? 'block' : 'none';\n",
              "        })();\n",
              "      </script>\n",
              "    </div>\n",
              "    </div>\n",
              "  </div>\n"
            ],
            "application/vnd.google.colaboratory.intrinsic+json": {
              "type": "dataframe",
              "summary": "{\n  \"name\": \"distorted_set[distorted_set['distortion'] == distorted_set['base']]\",\n  \"rows\": 243,\n  \"fields\": [\n    {\n      \"column\": \"Unnamed: 0\",\n      \"properties\": {\n        \"dtype\": \"number\",\n        \"std\": 676651,\n        \"min\": 2603,\n        \"max\": 2264154,\n        \"num_unique_values\": 243,\n        \"samples\": [\n          190854,\n          196658,\n          1835623\n        ],\n        \"semantic_type\": \"\",\n        \"description\": \"\"\n      }\n    },\n    {\n      \"column\": \"base\",\n      \"properties\": {\n        \"dtype\": \"string\",\n        \"num_unique_values\": 199,\n        \"samples\": [\n          \"\\u2014 1936 .\",\n          \"\\u0410\\u0440\\u0430\\u043c-\\u0434\\u0436\\u0430\\u043d !\",\n          \"\\u0413\\u043c-\\u0433\\u043c \\u2026\"\n        ],\n        \"semantic_type\": \"\",\n        \"description\": \"\"\n      }\n    },\n    {\n      \"column\": \"polypers\",\n      \"properties\": {\n        \"dtype\": \"string\",\n        \"num_unique_values\": 199,\n        \"samples\": [\n          \"\\u2014 1936 .\",\n          \"\\u0410\\u0440\\u0430\\u043c-\\u0434\\u0436\\u0430\\u043d !\",\n          \"\\u0413\\u043c-\\u0433\\u043c \\u2026\"\n        ],\n        \"semantic_type\": \"\",\n        \"description\": \"\"\n      }\n    },\n    {\n      \"column\": \"was_changed\",\n      \"properties\": {\n        \"dtype\": \"boolean\",\n        \"num_unique_values\": 1,\n        \"samples\": [\n          false\n        ],\n        \"semantic_type\": \"\",\n        \"description\": \"\"\n      }\n    },\n    {\n      \"column\": \"normal\",\n      \"properties\": {\n        \"dtype\": \"boolean\",\n        \"num_unique_values\": 1,\n        \"samples\": [\n          false\n        ],\n        \"semantic_type\": \"\",\n        \"description\": \"\"\n      }\n    },\n    {\n      \"column\": \"distortion\",\n      \"properties\": {\n        \"dtype\": \"string\",\n        \"num_unique_values\": 199,\n        \"samples\": [\n          \"\\u2014 1936 .\"\n        ],\n        \"semantic_type\": \"\",\n        \"description\": \"\"\n      }\n    }\n  ]\n}"
            }
          },
          "metadata": {},
          "execution_count": 26
        }
      ]
    },
    {
      "cell_type": "code",
      "source": [
        "probing_set = pd.concat([normal_set, distorted_set])\n",
        "probing_set.to_csv('probing_set.csv')"
      ],
      "metadata": {
        "id": "HzVeMVnvyDuJ"
      },
      "execution_count": null,
      "outputs": []
    },
    {
      "cell_type": "code",
      "source": [
        "len(probing_set)"
      ],
      "metadata": {
        "id": "pPBaVlMEy56j"
      },
      "execution_count": null,
      "outputs": []
    },
    {
      "cell_type": "code",
      "source": [
        "# distorted_set = pre_distorted_set.copy()\n",
        "# for i in tqdm(range(len(distorted_set)), desc=\"Processing sentences\"):\n",
        "#     # print(i)\n",
        "#     tokens_length = len(distorted_set.iloc[i].base.split())\n",
        "#     if tokens_length < 10:\n",
        "#         distorted_set.loc[i].distortion = sent_modify(distorted_set.iloc[i].base)\n",
        "#     elif 10 <= tokens_length <= 20:\n",
        "#         distorted_set.loc[i].distortion = sent_modify(distorted_set.iloc[i].base,\n",
        "#                                                        sub_num=2)\n",
        "#     else:\n",
        "#         random_sub = random.choice([1, 2, 3])\n",
        "#         distorted_set.loc[i].distortion = sent_modify(distorted_set.iloc[i].base,\n",
        "#                                                  sub_num=random_sub)"
      ],
      "metadata": {
        "id": "uD-LAurNwxZy"
      },
      "execution_count": null,
      "outputs": []
    },
    {
      "cell_type": "code",
      "source": [
        "distorted_set"
      ],
      "metadata": {
        "id": "ywasD4M3wzB6"
      },
      "execution_count": null,
      "outputs": []
    }
  ],
  "metadata": {
    "accelerator": "GPU",
    "colab": {
      "gpuType": "T4",
      "provenance": [],
      "collapsed_sections": [
        "wrS7nJW58QLe",
        "OLBPIY8n8QLg",
        "6JqI-OhL8QLh",
        "6brBX7ys8QLh",
        "CSEbM3hf8QLi",
        "a-xvvWBF8QLi"
      ]
    },
    "kernelspec": {
      "display_name": "python3.9",
      "language": "python",
      "name": "python3.9"
    },
    "language_info": {
      "codemirror_mode": {
        "name": "ipython",
        "version": 3
      },
      "file_extension": ".py",
      "mimetype": "text/x-python",
      "name": "python",
      "nbconvert_exporter": "python",
      "pygments_lexer": "ipython3",
      "version": "3.9.21"
    }
  },
  "nbformat": 4,
  "nbformat_minor": 0
}